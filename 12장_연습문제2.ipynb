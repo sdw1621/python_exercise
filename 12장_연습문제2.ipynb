{
  "nbformat": 4,
  "nbformat_minor": 0,
  "metadata": {
    "kernelspec": {
      "display_name": "Python 3",
      "language": "python",
      "name": "python3"
    },
    "language_info": {
      "codemirror_mode": {
        "name": "ipython",
        "version": 3
      },
      "file_extension": ".py",
      "mimetype": "text/x-python",
      "name": "python",
      "nbconvert_exporter": "python",
      "pygments_lexer": "ipython3",
      "version": "3.7.4"
    },
    "colab": {
      "name": "12장_연습문제2.ipynb",
      "provenance": [],
      "collapsed_sections": [],
      "include_colab_link": true
    }
  },
  "cells": [
    {
      "cell_type": "markdown",
      "metadata": {
        "id": "view-in-github",
        "colab_type": "text"
      },
      "source": [
        "<a href=\"https://colab.research.google.com/github/sdw1621/python_exercise/blob/main/12%EC%9E%A5_%EC%97%B0%EC%8A%B5%EB%AC%B8%EC%A0%9C2.ipynb\" target=\"_parent\"><img src=\"https://colab.research.google.com/assets/colab-badge.svg\" alt=\"Open In Colab\"/></a>"
      ]
    },
    {
      "cell_type": "markdown",
      "metadata": {
        "id": "N5q5Bm1dlx_V"
      },
      "source": [
        "###**코랩에 파일 가져오기(코드)**\n",
        "\n",
        "http://growthj.link/python-%EA%B5%AC%EA%B8%80-colab%EC%9C%BC%EB%A1%9C-pd-read-csv-%ED%99%9C%EC%9A%A9%ED%95%98%EB%8A%94-%EB%B0%A9%EB%B2%95/"
      ]
    },
    {
      "cell_type": "code",
      "metadata": {
        "id": "jbnNjrTel8J3"
      },
      "source": [
        "#파일 직접 업로드하기\n",
        "from google.colab import files\n",
        "myfile = files.upload()"
      ],
      "execution_count": null,
      "outputs": []
    },
    {
      "cell_type": "code",
      "metadata": {
        "colab": {
          "base_uri": "https://localhost:8080/"
        },
        "id": "slVGpNQamKDr",
        "outputId": "9528691c-ae2a-497b-a749-962b6be8b654"
      },
      "source": [
        "# https://wooono.tistory.com/357\n",
        "\n",
        "!sudo apt-get install -y fonts-nanum\n",
        "!sudo fc-cache -fv\n",
        "!rm ~/.cache/matplotlib -rf"
      ],
      "execution_count": 4,
      "outputs": [
        {
          "output_type": "stream",
          "name": "stdout",
          "text": [
            "Reading package lists... Done\n",
            "Building dependency tree       \n",
            "Reading state information... Done\n",
            "The following NEW packages will be installed:\n",
            "  fonts-nanum\n",
            "0 upgraded, 1 newly installed, 0 to remove and 37 not upgraded.\n",
            "Need to get 9,604 kB of archives.\n",
            "After this operation, 29.5 MB of additional disk space will be used.\n",
            "Get:1 http://archive.ubuntu.com/ubuntu bionic/universe amd64 fonts-nanum all 20170925-1 [9,604 kB]\n",
            "Fetched 9,604 kB in 1s (10.0 MB/s)\n",
            "debconf: unable to initialize frontend: Dialog\n",
            "debconf: (No usable dialog-like program is installed, so the dialog based frontend cannot be used. at /usr/share/perl5/Debconf/FrontEnd/Dialog.pm line 76, <> line 1.)\n",
            "debconf: falling back to frontend: Readline\n",
            "debconf: unable to initialize frontend: Readline\n",
            "debconf: (This frontend requires a controlling tty.)\n",
            "debconf: falling back to frontend: Teletype\n",
            "dpkg-preconfigure: unable to re-open stdin: \n",
            "Selecting previously unselected package fonts-nanum.\n",
            "(Reading database ... 155013 files and directories currently installed.)\n",
            "Preparing to unpack .../fonts-nanum_20170925-1_all.deb ...\n",
            "Unpacking fonts-nanum (20170925-1) ...\n",
            "Setting up fonts-nanum (20170925-1) ...\n",
            "Processing triggers for fontconfig (2.12.6-0ubuntu2) ...\n",
            "/usr/share/fonts: caching, new cache contents: 0 fonts, 1 dirs\n",
            "/usr/share/fonts/truetype: caching, new cache contents: 0 fonts, 3 dirs\n",
            "/usr/share/fonts/truetype/humor-sans: caching, new cache contents: 1 fonts, 0 dirs\n",
            "/usr/share/fonts/truetype/liberation: caching, new cache contents: 16 fonts, 0 dirs\n",
            "/usr/share/fonts/truetype/nanum: caching, new cache contents: 10 fonts, 0 dirs\n",
            "/usr/local/share/fonts: caching, new cache contents: 0 fonts, 0 dirs\n",
            "/root/.local/share/fonts: skipping, no such directory\n",
            "/root/.fonts: skipping, no such directory\n",
            "/var/cache/fontconfig: cleaning cache directory\n",
            "/root/.cache/fontconfig: not cleaning non-existent cache directory\n",
            "/root/.fontconfig: not cleaning non-existent cache directory\n",
            "fc-cache: succeeded\n"
          ]
        }
      ]
    },
    {
      "cell_type": "code",
      "metadata": {
        "id": "iyk8RRpUmVxg"
      },
      "source": [
        "# 상단 메뉴 : 런타임 - 런타임 다시 시작"
      ],
      "execution_count": 5,
      "outputs": []
    },
    {
      "cell_type": "code",
      "metadata": {
        "id": "9j6JYY1umLhl"
      },
      "source": [
        "import matplotlib.pyplot as plt\n",
        "\n",
        "plt.rc('font', family='NanumBarunGothic') "
      ],
      "execution_count": 1,
      "outputs": []
    },
    {
      "cell_type": "code",
      "metadata": {
        "id": "TO7q9nHVmOrB"
      },
      "source": [
        "import matplotlib.pyplot as plt\n",
        "from matplotlib import rc"
      ],
      "execution_count": 2,
      "outputs": []
    },
    {
      "cell_type": "code",
      "metadata": {
        "id": "d6-g6YY-lGn9",
        "colab": {
          "base_uri": "https://localhost:8080/",
          "height": 300
        },
        "outputId": "62188882-2a9f-4d23-c28d-6fb29917377c"
      },
      "source": [
        "# 연습문제 12-1\n",
        "import csv\n",
        "import matplotlib.pyplot as plt\n",
        "from matplotlib import rc\n",
        "\n",
        "f = open('cafe_2year.csv', 'r', encoding='utf-8')\n",
        "lines = csv.reader(f)\n",
        "\n",
        "header = next(lines)\n",
        "\n",
        "xdata = []\n",
        "ydata = []\n",
        "count = 1\n",
        "\n",
        "for line in lines:\n",
        "    if count%3 == 0 :\n",
        "        xdata.append(line[0])\n",
        "        ydata.append(line[1])\n",
        "\n",
        "    count += 1\n",
        "    \n",
        "# rc('font', family='Malgun Gothic')\n",
        "\n",
        "font1 = {'size':18, 'color':'green'}\n",
        "\n",
        "plt.bar(xdata, ydata)\n",
        "\n",
        "plt.title('전국의 월별 까페수', fontdict=font1)\n",
        "plt.xlabel('년월')\n",
        "plt.ylabel('카페수')\n",
        "\n",
        "plt.show()\n",
        "        \n",
        "f.close()"
      ],
      "execution_count": 3,
      "outputs": [
        {
          "output_type": "display_data",
          "data": {
            "image/png": "[encoded data removed]",
            "text/plain": [
              "<Figure size 432x288 with 1 Axes>"
            ]
          },
          "metadata": {
            "needs_background": "light"
          }
        }
      ]
    },
    {
      "cell_type": "code",
      "metadata": {
        "id": "77AEpp-4lGn_",
        "outputId": "0e0d58d3-c1eb-47e2-c7bc-2a221e410a36"
      },
      "source": [
        "# 연습문제 12-2\n",
        "import csv\n",
        "\n",
        "f = open('doctor_2019.csv', 'r', encoding='utf-8')\n",
        "lines = csv.reader(f)\n",
        "\n",
        "header = next(lines)\n",
        "\n",
        "# 서울, 부산, 대구, 인천, 대전, 광주, 울산\n",
        "area = ['서울', '부산', '대구', '인천', '대전', '광주', '울산']\n",
        "\n",
        "doctor = ([[0, 0, 0, 0], [0, 0, 0, 0], [0, 0, 0, 0], [0, 0, 0, 0], \n",
        "          [0, 0, 0, 0], [0, 0, 0, 0], [0, 0, 0, 0]])\n",
        "\n",
        "for line in lines:        \n",
        "    if line[0] == '서울' :\n",
        "        doctor[0][0] += int(line[2])\n",
        "        doctor[0][1]+= int(line[3])\n",
        "        doctor[0][2] += int(line[4])\n",
        "        doctor[0][3] += int(line[5])\n",
        "        \n",
        "    if line[0] == '부산' :\n",
        "        doctor[1][0] += int(line[2])\n",
        "        doctor[1][1]+= int(line[3])\n",
        "        doctor[1][2] += int(line[4])\n",
        "        doctor[1][3] += int(line[5])\n",
        "    \n",
        "    if line[0] == '대구' :\n",
        "        doctor[2][0] += int(line[2])\n",
        "        doctor[2][1]+= int(line[3])\n",
        "        doctor[2][2] += int(line[4])\n",
        "        doctor[2][3] += int(line[5])\n",
        "        \n",
        "    if line[0] == '인천' :\n",
        "        doctor[3][0] += int(line[2])\n",
        "        doctor[3][1]+= int(line[3])\n",
        "        doctor[3][2] += int(line[4])\n",
        "        doctor[3][3] += int(line[5])\n",
        "        \n",
        "    if line[0] == '대전' :\n",
        "        doctor[4][0] += int(line[2])\n",
        "        doctor[4][1]+= int(line[3])\n",
        "        doctor[4][2] += int(line[4])\n",
        "        doctor[4][3] += int(line[5])\n",
        "        \n",
        "    if line[0] == '광주' :\n",
        "        doctor[5][0] += int(line[2])\n",
        "        doctor[5][1]+= int(line[3])\n",
        "        doctor[5][2] += int(line[4])\n",
        "        doctor[5][3] += int(line[5])\n",
        "        \n",
        "    if line[0] == '울산' :\n",
        "        doctor[6][0] += int(line[2])\n",
        "        doctor[6][1]+= int(line[3])\n",
        "        doctor[6][2] += int(line[4])\n",
        "        doctor[6][3] += int(line[5])        \n",
        "        \n",
        "print(header[0], header[2], header[3], header[4], header[5])\n",
        "\n",
        "for i in range(7) :\n",
        "    print(area[i], end=' ')\n",
        "    for j in range(4) :\n",
        "        print('%8d' % doctor[i][j], end=' ')\n",
        "    \n",
        "    print()\n",
        "\n",
        "f.close()"
      ],
      "execution_count": null,
      "outputs": [
        {
          "name": "stdout",
          "output_type": "stream",
          "text": [
            "지역 일반의 수 인턴 수 레지던트 수 전문의 수\n",
            "서울      162     1196     4757     9375 \n",
            "부산       58      197      785     2211 \n",
            "대구       27      215      712     1436 \n",
            "인천       47      138      444     1518 \n",
            "대전       25      142      425     1006 \n",
            "광주       16      102      356     1006 \n",
            "울산       19       23      104      467 \n"
          ]
        }
      ]
    },
    {
      "cell_type": "code",
      "metadata": {
        "colab": {
          "resources": {
            "http://localhost:8080/nbextensions/google.colab/files.js": {
              "data": "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",
              "ok": true,
              "headers": [
                [
                  "content-type",
                  "application/javascript"
                ]
              ],
              "status": 200,
              "status_text": ""
            }
          },
          "base_uri": "https://localhost:8080/",
          "height": 76
        },
        "id": "wcRrJ9mxmiYZ",
        "outputId": "119279aa-b903-4d29-8aee-b20ce3c4da69"
      },
      "source": [
        "#파일 직접 업로드하기\n",
        "from google.colab import files\n",
        "myfile = files.upload()"
      ],
      "execution_count": 5,
      "outputs": [
        {
          "output_type": "display_data",
          "data": {
            "text/html": [
              "\n",
              "     <input type=\"file\" id=\"files-44f24c61-ad3b-4c28-a933-220d0f414abf\" name=\"files[]\" multiple disabled\n",
              "        style=\"border:none\" />\n",
              "     <output id=\"result-44f24c61-ad3b-4c28-a933-220d0f414abf\">\n",
              "      Upload widget is only available when the cell has been executed in the\n",
              "      current browser session. Please rerun this cell to enable.\n",
              "      </output>\n",
              "      <script src=\"/nbextensions/google.colab/files.js\"></script> "
            ],
            "text/plain": [
              "<IPython.core.display.HTML object>"
            ]
          },
          "metadata": {}
        },
        {
          "output_type": "stream",
          "name": "stdout",
          "text": [
            "Saving doctor_2019.csv to doctor_2019.csv\n"
          ]
        }
      ]
    },
    {
      "cell_type": "code",
      "metadata": {
        "id": "Yp6uqsc-lGoA",
        "colab": {
          "base_uri": "https://localhost:8080/"
        },
        "outputId": "19fb579d-d0f9-484c-ba41-b69955c18d0b"
      },
      "source": [
        "# 연습문제 12-3\n",
        "import csv\n",
        "\n",
        "f = open('doctor_2019.csv', 'r', encoding='utf-8')\n",
        "lines = csv.reader(f)\n",
        "\n",
        "header = next(lines)\n",
        "\n",
        "# 서울, 부산, 대구, 인천, 대전, 광주, 울산\n",
        "area = ['서울', '부산', '대구', '인천', '대전', '광주', '울산']\n",
        "\n",
        "doctor = ([[0, 0, 0, 0], [0, 0, 0, 0], [0, 0, 0, 0], [0, 0, 0, 0], \n",
        "          [0, 0, 0, 0], [0, 0, 0, 0], [0, 0, 0, 0]])\n",
        "\n",
        "for line in lines:        \n",
        "    if line[0] == '서울' :\n",
        "        doctor[0][0] += int(line[2])\n",
        "        doctor[0][1]+= int(line[3])\n",
        "        doctor[0][2] += int(line[4])\n",
        "        doctor[0][3] += int(line[5])\n",
        "        \n",
        "    if line[0] == '부산' :\n",
        "        doctor[1][0] += int(line[2])\n",
        "        doctor[1][1]+= int(line[3])\n",
        "        doctor[1][2] += int(line[4])\n",
        "        doctor[1][3] += int(line[5])\n",
        "    \n",
        "    if line[0] == '대구' :\n",
        "        doctor[2][0] += int(line[2])\n",
        "        doctor[2][1]+= int(line[3])\n",
        "        doctor[2][2] += int(line[4])\n",
        "        doctor[2][3] += int(line[5])\n",
        "        \n",
        "    if line[0] == '인천' :\n",
        "        doctor[3][0] += int(line[2])\n",
        "        doctor[3][1]+= int(line[3])\n",
        "        doctor[3][2] += int(line[4])\n",
        "        doctor[3][3] += int(line[5])\n",
        "        \n",
        "    if line[0] == '대전' :\n",
        "        doctor[4][0] += int(line[2])\n",
        "        doctor[4][1]+= int(line[3])\n",
        "        doctor[4][2] += int(line[4])\n",
        "        doctor[4][3] += int(line[5])\n",
        "        \n",
        "    if line[0] == '광주' :\n",
        "        doctor[5][0] += int(line[2])\n",
        "        doctor[5][1]+= int(line[3])\n",
        "        doctor[5][2] += int(line[4])\n",
        "        doctor[5][3] += int(line[5])\n",
        "        \n",
        "    if line[0] == '울산' :\n",
        "        doctor[6][0] += int(line[2])\n",
        "        doctor[6][1]+= int(line[3])\n",
        "        doctor[6][2] += int(line[4])\n",
        "        doctor[6][3] += int(line[5])        \n",
        "\n",
        "f2 = open('doctor2.csv', 'w', encoding='utf-8', newline='')\n",
        "wr = csv.writer(f2)\n",
        "\n",
        "wr.writerow(['지역', '일반의 수', '인턴 수', '레지던트 수', '전문의 수'])\n",
        "\n",
        "for i in range(7) :     \n",
        "        wr.writerow([area[i], doctor[i][0], doctor[i][1], doctor[i][2], doctor[i][3]])\n",
        "    \n",
        "print('doctor2.csv 파일 쓰기 완료!')\n",
        "f.close()\n",
        "f2.close()"
      ],
      "execution_count": 6,
      "outputs": [
        {
          "output_type": "stream",
          "name": "stdout",
          "text": [
            "doctor2.csv 파일 쓰기 완료!\n"
          ]
        }
      ]
    },
    {
      "cell_type": "code",
      "metadata": {
        "id": "4E-lLYr5mw_i"
      },
      "source": [
        "import matplotlib.pyplot as plt\n",
        "\n",
        "plt.rc('font', family='NanumBarunGothic') "
      ],
      "execution_count": 9,
      "outputs": []
    },
    {
      "cell_type": "code",
      "metadata": {
        "id": "a5dNe9BalGoB",
        "colab": {
          "base_uri": "https://localhost:8080/",
          "height": 300
        },
        "outputId": "1d82988b-97f5-4824-c3cd-1f2899a96ed2"
      },
      "source": [
        "# 연습문제 12-4\n",
        "import csv\n",
        "import matplotlib.pyplot as plt\n",
        "from matplotlib import rc\n",
        "\n",
        "f = open('doctor2.csv', 'r', encoding='utf-8')\n",
        "lines = csv.reader(f)\n",
        "\n",
        "header = next(lines)\n",
        "\n",
        "xdata = []\n",
        "ydata = []\n",
        "\n",
        "for line in lines:\n",
        "    xdata.append(line[0])\n",
        "    ydata.append(int(line[4]))\n",
        "\n",
        "# rc('font', family='Malgun Gothic')\n",
        "\n",
        "font1 = {'size':18, 'color':'green'}\n",
        "\n",
        "plt.scatter(xdata, ydata)\n",
        "\n",
        "plt.title('서울 및 광역시 종합병원 전문의 수', fontdict=font1)\n",
        "plt.xlabel('시')\n",
        "plt.ylabel('의사 수')\n",
        "\n",
        "plt.show()\n",
        "        \n",
        "f.close()"
      ],
      "execution_count": 10,
      "outputs": [
        {
          "output_type": "display_data",
          "data": {
            "image/png": "[encoded data removed]",
            "text/plain": [
              "<Figure size 432x288 with 1 Axes>"
            ]
          },
          "metadata": {
            "needs_background": "light"
          }
        }
      ]
    },
    {
      "cell_type": "code",
      "metadata": {
        "id": "4K0JqX5dnBq6"
      },
      "source": [
        "import matplotlib.pyplot as plt\n",
        "\n",
        "plt.rc('font', family='NanumBarunGothic') "
      ],
      "execution_count": 12,
      "outputs": []
    },
    {
      "cell_type": "code",
      "metadata": {
        "id": "Y7wxzjEolGoB",
        "colab": {
          "base_uri": "https://localhost:8080/",
          "height": 300
        },
        "outputId": "4ec2d57a-8603-4b2f-fe38-931dd6159f6b"
      },
      "source": [
        "# 연습문제 12-5\n",
        "import csv\n",
        "import matplotlib.pyplot as plt\n",
        "from matplotlib import rc\n",
        "\n",
        "f = open('doctor2.csv', 'r', encoding='utf-8')\n",
        "lines = csv.reader(f)\n",
        "\n",
        "header = next(lines)\n",
        "\n",
        "xdata = []\n",
        "ydata1 = []\n",
        "ydata2 = []\n",
        "ydata3 = []\n",
        "ydata4 = []\n",
        "\n",
        "for line in lines:\n",
        "    xdata.append(line[0])\n",
        "    ydata1.append(int(line[1]))\n",
        "    ydata2.append(int(line[2]))\n",
        "    ydata3.append(int(line[3]))\n",
        "    ydata4.append(int(line[4]))\n",
        "\n",
        "# rc('font', family='Malgun Gothic')\n",
        "\n",
        "font1 = {'size':18, 'color':'green'}\n",
        "\n",
        "plt.plot(xdata, ydata1, label='일반의', color='red', linestyle='-', marker='o')\n",
        "plt.plot(xdata, ydata2, label='인턴', color='blue', linestyle='--', marker='x')\n",
        "plt.plot(xdata, ydata3, label='레지던트', color='yellow', linestyle=':', marker='s')\n",
        "plt.plot(xdata, ydata4, label='전문의', color='purple', linestyle='-.', marker='d')\n",
        "\n",
        "plt.title('서울 및 광역시 종합병원 의사 수', fontdict=font1)\n",
        "plt.legend(loc='best')\n",
        "plt.xlabel('시')\n",
        "plt.ylabel('의사 수')\n",
        "\n",
        "plt.show()\n",
        "        \n",
        "f.close()"
      ],
      "execution_count": 13,
      "outputs": [
        {
          "output_type": "display_data",
          "data": {
            "image/png": "[encoded data removed]",
            "text/plain": [
              "<Figure size 432x288 with 1 Axes>"
            ]
          },
          "metadata": {
            "needs_background": "light"
          }
        }
      ]
    },
    {
      "cell_type": "code",
      "metadata": {
        "id": "5tYp37CVlGoB",
        "colab": {
          "base_uri": "https://localhost:8080/",
          "height": 269
        },
        "outputId": "6213cf5e-73f4-4839-dac2-e8f0095e10a5"
      },
      "source": [
        "# 연습문제 12-6\n",
        "import csv\n",
        "import matplotlib.pyplot as plt\n",
        "from matplotlib import rc\n",
        "\n",
        "f = open('doctor2.csv', 'r', encoding='utf-8')\n",
        "lines = csv.reader(f)\n",
        "\n",
        "header = next(lines)\n",
        "\n",
        "kind = ['일반의', '인턴', '레지던트', '전문의']\n",
        "\n",
        "numbers = []\n",
        "seoul = next(lines)\n",
        "\n",
        "total = 0\n",
        "for i in range(4) :\n",
        "    total += int(seoul[i+1])\n",
        "    \n",
        "for i in range(4) :\n",
        "    persent = int(seoul[i+1])/total;\n",
        "    numbers.append(persent)\n",
        "\n",
        "plt.pie(numbers, explode=(0, 0.1, 0, 0), labels=kind, autopct='%.1f%%', shadow=True, startangle=90)\n",
        "plt.title('서울 종합병원 의사 유형별 분포', fontdict=font1)\n",
        "plt.show()\n",
        "        \n",
        "f.close()"
      ],
      "execution_count": 14,
      "outputs": [
        {
          "output_type": "display_data",
          "data": {
            "image/png": "[encoded data removed]",
            "text/plain": [
              "<Figure size 432x288 with 1 Axes>"
            ]
          },
          "metadata": {}
        }
      ]
    },
    {
      "cell_type": "code",
      "metadata": {
        "id": "xAbyMUP6lGoC"
      },
      "source": [
        ""
      ],
      "execution_count": null,
      "outputs": []
    }
  ]
}