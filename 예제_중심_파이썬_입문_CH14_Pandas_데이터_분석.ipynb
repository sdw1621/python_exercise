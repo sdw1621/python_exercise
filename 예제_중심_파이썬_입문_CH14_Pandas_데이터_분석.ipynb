{
  "nbformat": 4,
  "nbformat_minor": 0,
  "metadata": {
    "colab": {
      "name": "예제 중심 파이썬 입문_CH14 Pandas 데이터 분석.ipynb",
      "provenance": [],
      "collapsed_sections": [],
      "authorship_tag": "ABX9TyNfl+ONh4164mbtGDMgkbeH",
      "include_colab_link": true
    },
    "kernelspec": {
      "name": "python3",
      "display_name": "Python 3"
    },
    "language_info": {
      "name": "python"
    }
  },
  "cells": [
    {
      "cell_type": "markdown",
      "metadata": {
        "id": "view-in-github",
        "colab_type": "text"
      },
      "source": [
        "<a href=\"https://colab.research.google.com/github/sdw1621/python_exercise/blob/main/%EC%98%88%EC%A0%9C_%EC%A4%91%EC%8B%AC_%ED%8C%8C%EC%9D%B4%EC%8D%AC_%EC%9E%85%EB%AC%B8_CH14_Pandas_%EB%8D%B0%EC%9D%B4%ED%84%B0_%EB%B6%84%EC%84%9D.ipynb\" target=\"_parent\"><img src=\"https://colab.research.google.com/assets/colab-badge.svg\" alt=\"Open In Colab\"/></a>"
      ]
    },
    {
      "cell_type": "markdown",
      "metadata": {
        "id": "w19I8DZVTe4t"
      },
      "source": [
        "###**예제 14-1. Series 객체의 생성**"
      ]
    },
    {
      "cell_type": "code",
      "metadata": {
        "colab": {
          "base_uri": "https://localhost:8080/"
        },
        "id": "pLBauQ7BTSdd",
        "outputId": "39cf16e5-6dbf-4dad-c6e0-ac433999b357"
      },
      "source": [
        "import pandas as pd\n",
        "\n",
        "obj = pd.Series([5, -4, 7, 0, 12])\n",
        "print(obj)"
      ],
      "execution_count": null,
      "outputs": [
        {
          "output_type": "stream",
          "name": "stdout",
          "text": [
            "0     5\n",
            "1    -4\n",
            "2     7\n",
            "3     0\n",
            "4    12\n",
            "dtype: int64\n"
          ]
        }
      ]
    },
    {
      "cell_type": "markdown",
      "metadata": {
        "id": "8lpl-eNmUIyd"
      },
      "source": [
        "###**예제 14-2. Series 객체의 값과 인덱스**"
      ]
    },
    {
      "cell_type": "code",
      "metadata": {
        "colab": {
          "base_uri": "https://localhost:8080/"
        },
        "id": "JNN9TARPTpHt",
        "outputId": "be1842fb-0f2d-4044-be68-1de0f61c7f4a"
      },
      "source": [
        "import pandas as pd\n",
        "\n",
        "obj = pd.Series([8, -20, -3, 13, 2])\n",
        "\n",
        "print(obj.values)\n",
        "print(obj.index)\n",
        "\n",
        "print(obj[2])"
      ],
      "execution_count": null,
      "outputs": [
        {
          "output_type": "stream",
          "name": "stdout",
          "text": [
            "[  8 -20  -3  13   2]\n",
            "RangeIndex(start=0, stop=5, step=1)\n",
            "-3\n"
          ]
        }
      ]
    },
    {
      "cell_type": "markdown",
      "metadata": {
        "id": "JRWNYuNyXGjb"
      },
      "source": [
        "###**예제 14-3. Series 객체의 인덱스 설정**"
      ]
    },
    {
      "cell_type": "code",
      "metadata": {
        "colab": {
          "base_uri": "https://localhost:8080/"
        },
        "id": "U3yj8Q0NUa1Z",
        "outputId": "63f5fb85-3ec7-4e03-ab75-e135f3ed7cdd"
      },
      "source": [
        "import pandas as pd\n",
        "\n",
        "obj = pd.Series([10, 20, 30, 40, 50], index=['a','b','c','d','e'])\n",
        "print(obj)\n",
        "\n",
        "print(obj['c'])\n",
        "print(obj[['d','a']])\n",
        "print(obj[1:4])"
      ],
      "execution_count": null,
      "outputs": [
        {
          "output_type": "stream",
          "name": "stdout",
          "text": [
            "a    10\n",
            "b    20\n",
            "c    30\n",
            "d    40\n",
            "e    50\n",
            "dtype: int64\n",
            "30\n",
            "d    40\n",
            "a    10\n",
            "dtype: int64\n",
            "b    20\n",
            "c    30\n",
            "d    40\n",
            "dtype: int64\n"
          ]
        }
      ]
    },
    {
      "cell_type": "markdown",
      "metadata": {
        "id": "O-z8KElNXy8J"
      },
      "source": [
        "###**예제 14-4. Series 객체의 산술 연산과 조건식**"
      ]
    },
    {
      "cell_type": "code",
      "metadata": {
        "colab": {
          "base_uri": "https://localhost:8080/"
        },
        "id": "12sS1VMmXU2k",
        "outputId": "1854bad5-3836-4bf3-b1f3-860efa1a507f"
      },
      "source": [
        "import pandas as pd\n",
        "\n",
        "obj = pd.Series([10,20,30,40,50])\n",
        "\n",
        "print(obj * 10)\n",
        "\n",
        "print(obj[obj > 25])"
      ],
      "execution_count": null,
      "outputs": [
        {
          "output_type": "stream",
          "name": "stdout",
          "text": [
            "0    100\n",
            "1    200\n",
            "2    300\n",
            "3    400\n",
            "4    500\n",
            "dtype: int64\n",
            "2    30\n",
            "3    40\n",
            "4    50\n",
            "dtype: int64\n"
          ]
        }
      ]
    },
    {
      "cell_type": "markdown",
      "metadata": {
        "id": "KEtj5iVKYhVQ"
      },
      "source": [
        "###**예제 14-5. Series 객체에서 for문**"
      ]
    },
    {
      "cell_type": "code",
      "metadata": {
        "colab": {
          "base_uri": "https://localhost:8080/"
        },
        "id": "wfPhcUC5YCGz",
        "outputId": "f23fe91c-34dd-410f-a0ad-d47c34809ae1"
      },
      "source": [
        "import pandas as pd\n",
        "\n",
        "pop = pd.Series([9765623, 3441453, 246769], index=['서울', '부산', '대구'])\n",
        "\n",
        "for i, v in pop.items():\n",
        "  print('%s : %d명' %(i, v))"
      ],
      "execution_count": null,
      "outputs": [
        {
          "output_type": "stream",
          "name": "stdout",
          "text": [
            "서울 : 9765623명\n",
            "부산 : 3441453명\n",
            "대구 : 246769명\n"
          ]
        }
      ]
    },
    {
      "cell_type": "markdown",
      "metadata": {
        "id": "KAPuYa9rZWls"
      },
      "source": [
        "###**예제 14-6. Series 객체의 딕셔너리 사용**"
      ]
    },
    {
      "cell_type": "code",
      "metadata": {
        "colab": {
          "base_uri": "https://localhost:8080/"
        },
        "id": "5qri3yPVY5dh",
        "outputId": "9b6ff930-ded4-4599-9b87-71d0cf186e5f"
      },
      "source": [
        "import pandas as pd\n",
        "\n",
        "pop = pd.Series({'서울':9765623, '부산':3441453, '대구':2461769}, index = ['서울','부산', '대구', '광주', '대전'])\n",
        "print(pop)\n",
        "\n",
        "pop['광주'] = 149336\n",
        "\n",
        "print('광주시 인구 : %.0f명' %pop['광주'])"
      ],
      "execution_count": null,
      "outputs": [
        {
          "output_type": "stream",
          "name": "stdout",
          "text": [
            "서울    9765623.0\n",
            "부산    3441453.0\n",
            "대구    2461769.0\n",
            "광주          NaN\n",
            "대전          NaN\n",
            "dtype: float64\n",
            "광주시 인구 : 149336명\n"
          ]
        }
      ]
    },
    {
      "cell_type": "markdown",
      "metadata": {
        "id": "30R43i1HdMi6"
      },
      "source": [
        "###**예제 14-7. DataFrame 객체 생성**"
      ]
    },
    {
      "cell_type": "code",
      "metadata": {
        "colab": {
          "base_uri": "https://localhost:8080/"
        },
        "id": "13ONvbROb8B7",
        "outputId": "dbca4911-4c62-4677-91c4-4e1ac22a5f1d"
      },
      "source": [
        "import pandas as pd\n",
        "\n",
        "data = {'이름':['홍지수','안지영','김성수','최예린'],\n",
        "        '아이디':['jshong','jyahn','sukim','yrchoi'],\n",
        "        '비밀번호':['1234', '1234','1234','1234']}\n",
        "\n",
        "frame = pd.DataFrame(data)\n",
        "print(frame)"
      ],
      "execution_count": null,
      "outputs": [
        {
          "output_type": "stream",
          "name": "stdout",
          "text": [
            "    이름     아이디  비밀번호\n",
            "0  홍지수  jshong  1234\n",
            "1  안지영   jyahn  1234\n",
            "2  김성수   sukim  1234\n",
            "3  최예린  yrchoi  1234\n"
          ]
        }
      ]
    },
    {
      "cell_type": "markdown",
      "metadata": {
        "id": "EmqC1VfQeG7T"
      },
      "source": [
        "###**예제 14-8. DataFrame 열과 행 인덱스 설정**"
      ]
    },
    {
      "cell_type": "code",
      "metadata": {
        "colab": {
          "base_uri": "https://localhost:8080/",
          "height": 111
        },
        "id": "udogAhhndqOC",
        "outputId": "be7955f2-0830-45be-d4ad-a2d112bfd6c6"
      },
      "source": [
        "import pandas as pd\n",
        "\n",
        "member = {'이름':['김영준','한지원'],\n",
        "          '나이':[20, 23],\n",
        "          '전화번호':['010-3535-4576', '010-1295-7899']}\n",
        "\n",
        "frame = pd.DataFrame(member, columns = ['이름', '전화번호', '나이', '주소'], index = ['01', '02'])\n",
        "frame"
      ],
      "execution_count": null,
      "outputs": [
        {
          "output_type": "execute_result",
          "data": {
            "text/html": [
              "<div>\n",
              "<style scoped>\n",
              "    .dataframe tbody tr th:only-of-type {\n",
              "        vertical-align: middle;\n",
              "    }\n",
              "\n",
              "    .dataframe tbody tr th {\n",
              "        vertical-align: top;\n",
              "    }\n",
              "\n",
              "    .dataframe thead th {\n",
              "        text-align: right;\n",
              "    }\n",
              "</style>\n",
              "<table border=\"1\" class=\"dataframe\">\n",
              "  <thead>\n",
              "    <tr style=\"text-align: right;\">\n",
              "      <th></th>\n",
              "      <th>이름</th>\n",
              "      <th>전화번호</th>\n",
              "      <th>나이</th>\n",
              "      <th>주소</th>\n",
              "    </tr>\n",
              "  </thead>\n",
              "  <tbody>\n",
              "    <tr>\n",
              "      <th>01</th>\n",
              "      <td>김영준</td>\n",
              "      <td>010-3535-4576</td>\n",
              "      <td>20</td>\n",
              "      <td>NaN</td>\n",
              "    </tr>\n",
              "    <tr>\n",
              "      <th>02</th>\n",
              "      <td>한지원</td>\n",
              "      <td>010-1295-7899</td>\n",
              "      <td>23</td>\n",
              "      <td>NaN</td>\n",
              "    </tr>\n",
              "  </tbody>\n",
              "</table>\n",
              "</div>"
            ],
            "text/plain": [
              "     이름           전화번호  나이   주소\n",
              "01  김영준  010-3535-4576  20  NaN\n",
              "02  한지원  010-1295-7899  23  NaN"
            ]
          },
          "metadata": {},
          "execution_count": 13
        }
      ]
    },
    {
      "cell_type": "markdown",
      "metadata": {
        "id": "6cNmf7T3e6jp"
      },
      "source": [
        "###**예제 14-9. loc을 이용한 DataFrame의 요소 추출**"
      ]
    },
    {
      "cell_type": "code",
      "metadata": {
        "colab": {
          "base_uri": "https://localhost:8080/"
        },
        "id": "gdHEhE3terhf",
        "outputId": "8061842f-a029-403a-ded0-9d2c71ecc367"
      },
      "source": [
        "import pandas as pd\n",
        "\n",
        "data = {'학교명':['가나고', '다라고', '마바고', '사아고', '자차고'],\n",
        "        '학급수':[25, 23, 15, 19, 10],\n",
        "        '학생수':[620, 600, 550, 580, 400],\n",
        "        '교사수':[80, 95, 70, 90, 65]}\n",
        "\n",
        "frame = pd.DataFrame(data, index=['01', '02', '03', '04', '05'])\n",
        "print(frame)\n",
        "\n",
        "print(frame.loc['02', '학생수'])\n",
        "print(frame.loc['04', ['학교명','학급수','교사수']])"
      ],
      "execution_count": null,
      "outputs": [
        {
          "output_type": "stream",
          "name": "stdout",
          "text": [
            "    학교명  학급수  학생수  교사수\n",
            "01  가나고   25  620   80\n",
            "02  다라고   23  600   95\n",
            "03  마바고   15  550   70\n",
            "04  사아고   19  580   90\n",
            "05  자차고   10  400   65\n",
            "600\n",
            "학교명    사아고\n",
            "학급수     19\n",
            "교사수     90\n",
            "Name: 04, dtype: object\n"
          ]
        }
      ]
    },
    {
      "cell_type": "markdown",
      "metadata": {
        "id": "8YYoLRzkgLi_"
      },
      "source": [
        "###**예제 14-10. iloc을 이용한 DataFrame의 요소 추출**"
      ]
    },
    {
      "cell_type": "code",
      "metadata": {
        "colab": {
          "base_uri": "https://localhost:8080/"
        },
        "id": "jrPnydeeessK",
        "outputId": "b7b5b1ba-4e73-47a8-a279-a00756436611"
      },
      "source": [
        "import pandas as pd\n",
        "\n",
        "data = {'아이디':['kim', 'song', 'han', 'choi'],\n",
        "        '구매상품':['상품A','상품B','상품C','상품D'],\n",
        "        '가격':[15000,23000,33000,50000],\n",
        "        '개수':[3,5,1,10],\n",
        "        '구매일':['0303','0810','0120','0601']}\n",
        "\n",
        "frame = pd.DataFrame(data)\n",
        "print(frame)\n",
        "print()\n",
        "\n",
        "print(frame.iloc[2, 0])\n",
        "print()\n",
        "print(frame.iloc[3, :2])\n",
        "print()\n",
        "print(frame.iloc[:, [0,4]])"
      ],
      "execution_count": null,
      "outputs": [
        {
          "output_type": "stream",
          "name": "stdout",
          "text": [
            "    아이디 구매상품     가격  개수   구매일\n",
            "0   kim  상품A  15000   3  0303\n",
            "1  song  상품B  23000   5  0810\n",
            "2   han  상품C  33000   1  0120\n",
            "3  choi  상품D  50000  10  0601\n",
            "\n",
            "han\n",
            "\n",
            "아이디     choi\n",
            "구매상품     상품D\n",
            "Name: 3, dtype: object\n",
            "\n",
            "    아이디   구매일\n",
            "0   kim  0303\n",
            "1  song  0810\n",
            "2   han  0120\n",
            "3  choi  0601\n"
          ]
        }
      ]
    },
    {
      "cell_type": "markdown",
      "metadata": {
        "id": "hAp8XsQjhXUa"
      },
      "source": [
        "###**예제 14-11. DataFrame의 sum() 메소드**"
      ]
    },
    {
      "cell_type": "code",
      "metadata": {
        "colab": {
          "base_uri": "https://localhost:8080/"
        },
        "id": "d8arVoOdg2SZ",
        "outputId": "f55e350b-2a16-4e29-b852-196e43b30032"
      },
      "source": [
        "import pandas as pd\n",
        "\n",
        "scores = {'이름':['김지영','안지수','최성수','황예린','김소정'],\n",
        "          '국어':[95, 97, 90, 94, 87],\n",
        "          '영어':[90, 86, 93, 85, 93],\n",
        "          '수학':[85, 88, 89, 88, 99]}\n",
        "\n",
        "frame = pd.DataFrame(scores)\n",
        "print(frame)\n",
        "\n",
        "frame2 = frame.iloc[:, [1,2,3]]\n",
        "print(frame2)\n",
        "\n",
        "total = frame2.sum(axis = 1)\n",
        "print(total)"
      ],
      "execution_count": null,
      "outputs": [
        {
          "output_type": "stream",
          "name": "stdout",
          "text": [
            "    이름  국어  영어  수학\n",
            "0  김지영  95  90  85\n",
            "1  안지수  97  86  88\n",
            "2  최성수  90  93  89\n",
            "3  황예린  94  85  88\n",
            "4  김소정  87  93  99\n",
            "   국어  영어  수학\n",
            "0  95  90  85\n",
            "1  97  86  88\n",
            "2  90  93  89\n",
            "3  94  85  88\n",
            "4  87  93  99\n",
            "0    270\n",
            "1    271\n",
            "2    272\n",
            "3    267\n",
            "4    279\n",
            "dtype: int64\n"
          ]
        }
      ]
    },
    {
      "cell_type": "markdown",
      "metadata": {
        "id": "fyCBHUiOXE7J"
      },
      "source": [
        "###**예제 14-12. 성적의 합계와 평균 구하기**"
      ]
    },
    {
      "cell_type": "code",
      "metadata": {
        "colab": {
          "base_uri": "https://localhost:8080/"
        },
        "id": "eBwsW9oFiCfJ",
        "outputId": "8e092c71-d57e-4ac8-9d0e-63194f4fd30a"
      },
      "source": [
        "import pandas as pd\n",
        "\n",
        "scores = {'이름':['김지영','안지수','최성수','황예린','김소정'],\n",
        "          '국어':[95, 97, 90, 94, 87],\n",
        "          '영어':[90, 86, 93, 85, 93],\n",
        "          '수학':[85, 88, 89, 88, 99]}\n",
        "\n",
        "frame = pd.DataFrame(scores)\n",
        "frame2 = frame.iloc[:, [1,2,3]]\n",
        "\n",
        "total = frame2.sum(axis = 1)\n",
        "avg = frame2.mean(axis = 1)\n",
        "\n",
        "print('-' * 50)\n",
        "print('이름 합계 평균')\n",
        "print('-' * 50)\n",
        "for i in range(5):\n",
        "  print('%s %d %.2f' %(frame.iloc[i, 0], total.iloc[i], avg.iloc[i]))\n",
        "\n",
        "print('-' * 50)"
      ],
      "execution_count": null,
      "outputs": [
        {
          "output_type": "stream",
          "name": "stdout",
          "text": [
            "--------------------------------------------------\n",
            "이름 합계 평균\n",
            "--------------------------------------------------\n",
            "김지영 270 90.00\n",
            "안지수 271 90.33\n",
            "최성수 272 90.67\n",
            "황예린 267 89.00\n",
            "김소정 279 93.00\n",
            "--------------------------------------------------\n"
          ]
        }
      ]
    },
    {
      "cell_type": "markdown",
      "metadata": {
        "id": "06X29Q8iY9YA"
      },
      "source": [
        "###**예제 14-13. CSV 파일을 리스트에 저장**"
      ]
    },
    {
      "cell_type": "code",
      "metadata": {
        "colab": {
          "base_uri": "https://localhost:8080/"
        },
        "id": "uv6e9fFNZgPo",
        "outputId": "0cc5658a-3871-4a26-f3a0-244b27a33e8d"
      },
      "source": [
        "#드라이브에 접근할 수 있도록 아래 코드 입력\n",
        "from google.colab import drive\n",
        "drive.mount('/content/drive')"
      ],
      "execution_count": 6,
      "outputs": [
        {
          "output_type": "stream",
          "name": "stdout",
          "text": [
            "Mounted at /content/drive\n"
          ]
        }
      ]
    },
    {
      "cell_type": "code",
      "metadata": {
        "colab": {
          "base_uri": "https://localhost:8080/"
        },
        "id": "DdUb4fAjbDeK",
        "outputId": "1179a11c-3794-4e80-f1ee-434939d77234"
      },
      "source": [
        "cd drive/MyDrive/0_LG"
      ],
      "execution_count": 11,
      "outputs": [
        {
          "output_type": "stream",
          "name": "stdout",
          "text": [
            "/content/drive/MyDrive/0_LG\n"
          ]
        }
      ]
    },
    {
      "cell_type": "code",
      "metadata": {
        "colab": {
          "base_uri": "https://localhost:8080/"
        },
        "id": "AwiL3C7RYCGe",
        "outputId": "1149740f-290a-4181-d4e3-0fae635f3208"
      },
      "source": [
        "import population as pop\n",
        "\n",
        "list_data = []\n",
        "\n",
        "# CSV 파일을 읽어들여 리스트 list_data에 저장\n",
        "pop.get_list(list_data)\n",
        "print(list_data)"
      ],
      "execution_count": 18,
      "outputs": [
        {
          "output_type": "stream",
          "name": "stdout",
          "text": [
            "[['서울특별시  (1100000000)', '부산광역시  (2600000000)', '대구광역시  (2700000000)', '인천광역시  (2800000000)', '광주광역시  (2900000000)', '대전광역시  (3000000000)', '울산광역시  (3100000000)', '세종특별자치시  (3600000000)', '경기도  (4100000000)', '강원도  (4200000000)', '충청북도  (4300000000)', '충청남도  (4400000000)', '전라북도  (4500000000)', '전라남도  (4600000000)', '경상북도  (4700000000)', '경상남도  (4800000000)', '제주특별자치도  (5000000000)'], ['9,736,962', '3,410,925', '2,432,883', '2,954,955', '1,456,121', '1,473,125', '1,145,710', '343,788', '13,265,377', '1,539,521', '1,598,599', '2,120,995', '1,815,112', '1,861,894', '2,658,956', '3,358,828', '670,876'], ['4,345,877', '1,502,333', '1,033,349', '1,242,107', '618,503', '637,726', '469,551', '136,629', '5,497,087', '721,003', '723,931', '961,890', '818,452', '873,871', '1,229,265', '1,455,655', '293,932'], ['      2.24', '      2.27', '      2.35', '      2.38', '      2.35', '      2.31', '      2.44', '      2.52', '      2.41', '      2.14', '      2.21', '      2.21', '      2.22', '      2.13', '      2.16', '      2.31', '      2.28'], ['4,745,133', '1,673,266', '1,202,364', '1,481,133', '720,686', '735,791', '588,626', '171,403', '6,672,706', '774,358', '809,805', '1,081,153', '902,365', '934,900', '1,338,907', '1,690,600', '337,295'], ['4,991,829', '1,737,659', '1,230,519', '1,473,822', '735,435', '737,334', '557,084', '172,385', '6,592,671', '765,163', '788,794', '1,039,842', '912,747', '926,994', '1,320,049', '1,668,228', '333,581'], ['      0.95', '      0.96', '      0.98', '      1.00', '      0.98', '      1.00', '      1.06', '      0.99', '      1.01', '      1.01', '      1.03', '      1.04', '      0.99', '      1.01', '      1.01', '      1.01', '      1.01']]\n"
          ]
        }
      ]
    },
    {
      "cell_type": "markdown",
      "metadata": {
        "id": "gC-CDpuZeitm"
      },
      "source": [
        "###**예제 14-14. 리스트를 딕셔너리로 변환**"
      ]
    },
    {
      "cell_type": "code",
      "metadata": {
        "id": "nLVvRk3kZRWN",
        "colab": {
          "base_uri": "https://localhost:8080/"
        },
        "outputId": "3b625651-748a-440a-bb64-50febaff8416"
      },
      "source": [
        "import population as pop\n",
        "\n",
        "list_data = []\n",
        "\n",
        "# CSV 파일을 읽어 들여 리스트 list_data에 저장\n",
        "pop.get_list(list_data)\n",
        "\n",
        "dict_data = {}\n",
        "\n",
        "# 딕셔너리 dict_data를 위한 키 설정\n",
        "keys = ['지역', '총인구수', '세대수', '세대당_인구', '남자_인구수', '여자_인구수', '남여_비율']\n",
        "\n",
        "# 리스트 list_data와 딕셔너리의 키 keys를 딕셔너리 dict_data에 저장\n",
        "pop.get_dict(list_data, keys, dict_data)\n",
        "\n",
        "print(dict_data)\n",
        "\n"
      ],
      "execution_count": 20,
      "outputs": [
        {
          "output_type": "stream",
          "name": "stdout",
          "text": [
            "{'지역': ['서울특별시', '부산광역시', '대구광역시', '인천광역시', '광주광역시', '대전광역시', '울산광역시', '세종특별자치시', '경기도', '강원도', '충청북도', '충청남도', '전라북도', '전라남도', '경상북도', '경상남도', '제주특별자치도'], '총인구수': [9736962, 3410925, 2432883, 2954955, 1456121, 1473125, 1145710, 343788, 13265377, 1539521, 1598599, 2120995, 1815112, 1861894, 2658956, 3358828, 670876], '세대수': [4345877, 1502333, 1033349, 1242107, 618503, 637726, 469551, 136629, 5497087, 721003, 723931, 961890, 818452, 873871, 1229265, 1455655, 293932], '세대당_인구': [2.24, 2.27, 2.35, 2.38, 2.35, 2.31, 2.44, 2.52, 2.41, 2.14, 2.21, 2.21, 2.22, 2.13, 2.16, 2.31, 2.28], '남자_인구수': [4745133, 1673266, 1202364, 1481133, 720686, 735791, 588626, 171403, 6672706, 774358, 809805, 1081153, 902365, 934900, 1338907, 1690600, 337295], '여자_인구수': [4991829, 1737659, 1230519, 1473822, 735435, 737334, 557084, 172385, 6592671, 765163, 788794, 1039842, 912747, 926994, 1320049, 1668228, 333581], '남여_비율': [0.95, 0.96, 0.98, 1.0, 0.98, 1.0, 1.06, 0.99, 1.01, 1.01, 1.03, 1.04, 0.99, 1.01, 1.01, 1.01, 1.01]}\n"
          ]
        }
      ]
    },
    {
      "cell_type": "markdown",
      "metadata": {
        "id": "jOFWxIHVhDoq"
      },
      "source": [
        "###**예제 14-15. 딕셔너리로 DataFrame 객체 생성**"
      ]
    },
    {
      "cell_type": "code",
      "metadata": {
        "colab": {
          "base_uri": "https://localhost:8080/"
        },
        "id": "uASc7xFlgIT7",
        "outputId": "e369797a-7c78-4833-d91c-11d6489c7daa"
      },
      "source": [
        "import population as pop\n",
        "import pandas as pd\n",
        "\n",
        "list_data = []\n",
        "\n",
        "# CSV 파일을 읽어 들여 리스트 list_data에 저장\n",
        "pop.get_list(list_data)\n",
        "\n",
        "dict_data = {}\n",
        "\n",
        "# 딕셔너리 dict_data를 위한 키 설정\n",
        "keys = ['지역', '총인구수', '세대수', '세대당_인구', '남자_인구수', '여자_인구수', '남여_비율']\n",
        "\n",
        "# 리스트 list_data와 딕셔너리의 키 keys를 딕셔너리 dict_data에 저장\n",
        "pop.get_dict(list_data, keys, dict_data)\n",
        "\n",
        "# 딕셔너리 dict_data를 이용하여 DataFrame 객체 Frame 생성\n",
        "frame = pd.DataFrame(dict_data)\n",
        "print(frame)"
      ],
      "execution_count": 21,
      "outputs": [
        {
          "output_type": "stream",
          "name": "stdout",
          "text": [
            "         지역      총인구수      세대수  세대당_인구   남자_인구수   여자_인구수  남여_비율\n",
            "0     서울특별시   9736962  4345877    2.24  4745133  4991829   0.95\n",
            "1     부산광역시   3410925  1502333    2.27  1673266  1737659   0.96\n",
            "2     대구광역시   2432883  1033349    2.35  1202364  1230519   0.98\n",
            "3     인천광역시   2954955  1242107    2.38  1481133  1473822   1.00\n",
            "4     광주광역시   1456121   618503    2.35   720686   735435   0.98\n",
            "5     대전광역시   1473125   637726    2.31   735791   737334   1.00\n",
            "6     울산광역시   1145710   469551    2.44   588626   557084   1.06\n",
            "7   세종특별자치시    343788   136629    2.52   171403   172385   0.99\n",
            "8       경기도  13265377  5497087    2.41  6672706  6592671   1.01\n",
            "9       강원도   1539521   721003    2.14   774358   765163   1.01\n",
            "10     충청북도   1598599   723931    2.21   809805   788794   1.03\n",
            "11     충청남도   2120995   961890    2.21  1081153  1039842   1.04\n",
            "12     전라북도   1815112   818452    2.22   902365   912747   0.99\n",
            "13     전라남도   1861894   873871    2.13   934900   926994   1.01\n",
            "14     경상북도   2658956  1229265    2.16  1338907  1320049   1.01\n",
            "15     경상남도   3358828  1455655    2.31  1690600  1668228   1.01\n",
            "16  제주특별자치도    670876   293932    2.28   337295   333581   1.01\n"
          ]
        }
      ]
    },
    {
      "cell_type": "markdown",
      "metadata": {
        "id": "NAjBwpK5i4Cd"
      },
      "source": [
        "###**예제 14-16. 총 인구수 순으로 정렬**"
      ]
    },
    {
      "cell_type": "code",
      "metadata": {
        "colab": {
          "base_uri": "https://localhost:8080/"
        },
        "id": "4xUePHTNirDV",
        "outputId": "7db4fffd-dc0b-4f99-b941-46473f33c2ae"
      },
      "source": [
        "import population as pop\n",
        "import pandas as pd\n",
        "\n",
        "list_data = []\n",
        "\n",
        "# CSV 파일을 읽어 들여 리스트 list_data에 저장\n",
        "pop.get_list(list_data)\n",
        "\n",
        "dict_data = {}\n",
        "\n",
        "# 딕셔너리 dict_data를 위한 키 설정\n",
        "keys = ['지역', '총인구수', '세대수', '세대당_인구', '남자_인구수', '여자_인구수', '남여_비율']\n",
        "\n",
        "# 리스트 list_data와 딕셔너리의 키 keys를 딕셔너리 dict_data에 저장\n",
        "pop.get_dict(list_data, keys, dict_data)\n",
        "\n",
        "# 딕셔너리 dict_data를 이용하여 데이터프레임 객체 frame 생성\n",
        "frame = pd.DataFrame(dict_data)\n",
        "\n",
        "rank = frame.sort_values(by=['세대수'], ascending=False)\n",
        "print(rank)\n",
        "\n",
        "rank = rank.reset_index(drop = True)\n",
        "print(rank)"
      ],
      "execution_count": 23,
      "outputs": [
        {
          "output_type": "stream",
          "name": "stdout",
          "text": [
            "         지역      총인구수      세대수  세대당_인구   남자_인구수   여자_인구수  남여_비율\n",
            "8       경기도  13265377  5497087    2.41  6672706  6592671   1.01\n",
            "0     서울특별시   9736962  4345877    2.24  4745133  4991829   0.95\n",
            "1     부산광역시   3410925  1502333    2.27  1673266  1737659   0.96\n",
            "15     경상남도   3358828  1455655    2.31  1690600  1668228   1.01\n",
            "3     인천광역시   2954955  1242107    2.38  1481133  1473822   1.00\n",
            "14     경상북도   2658956  1229265    2.16  1338907  1320049   1.01\n",
            "2     대구광역시   2432883  1033349    2.35  1202364  1230519   0.98\n",
            "11     충청남도   2120995   961890    2.21  1081153  1039842   1.04\n",
            "13     전라남도   1861894   873871    2.13   934900   926994   1.01\n",
            "12     전라북도   1815112   818452    2.22   902365   912747   0.99\n",
            "10     충청북도   1598599   723931    2.21   809805   788794   1.03\n",
            "9       강원도   1539521   721003    2.14   774358   765163   1.01\n",
            "5     대전광역시   1473125   637726    2.31   735791   737334   1.00\n",
            "4     광주광역시   1456121   618503    2.35   720686   735435   0.98\n",
            "6     울산광역시   1145710   469551    2.44   588626   557084   1.06\n",
            "16  제주특별자치도    670876   293932    2.28   337295   333581   1.01\n",
            "7   세종특별자치시    343788   136629    2.52   171403   172385   0.99\n",
            "         지역      총인구수      세대수  세대당_인구   남자_인구수   여자_인구수  남여_비율\n",
            "0       경기도  13265377  5497087    2.41  6672706  6592671   1.01\n",
            "1     서울특별시   9736962  4345877    2.24  4745133  4991829   0.95\n",
            "2     부산광역시   3410925  1502333    2.27  1673266  1737659   0.96\n",
            "3      경상남도   3358828  1455655    2.31  1690600  1668228   1.01\n",
            "4     인천광역시   2954955  1242107    2.38  1481133  1473822   1.00\n",
            "5      경상북도   2658956  1229265    2.16  1338907  1320049   1.01\n",
            "6     대구광역시   2432883  1033349    2.35  1202364  1230519   0.98\n",
            "7      충청남도   2120995   961890    2.21  1081153  1039842   1.04\n",
            "8      전라남도   1861894   873871    2.13   934900   926994   1.01\n",
            "9      전라북도   1815112   818452    2.22   902365   912747   0.99\n",
            "10     충청북도   1598599   723931    2.21   809805   788794   1.03\n",
            "11      강원도   1539521   721003    2.14   774358   765163   1.01\n",
            "12    대전광역시   1473125   637726    2.31   735791   737334   1.00\n",
            "13    광주광역시   1456121   618503    2.35   720686   735435   0.98\n",
            "14    울산광역시   1145710   469551    2.44   588626   557084   1.06\n",
            "15  제주특별자치도    670876   293932    2.28   337295   333581   1.01\n",
            "16  세종특별자치시    343788   136629    2.52   171403   172385   0.99\n"
          ]
        }
      ]
    },
    {
      "cell_type": "markdown",
      "metadata": {
        "id": "InGBScykqm-y"
      },
      "source": [
        "###**예제 14-17. 국내 전체 인구수, 세대수, 남여 인구수**"
      ]
    },
    {
      "cell_type": "code",
      "metadata": {
        "colab": {
          "base_uri": "https://localhost:8080/"
        },
        "id": "t1jsBaaAjQ7o",
        "outputId": "c2e31304-99c0-4b94-d570-e56c7ee3b862"
      },
      "source": [
        "import population as pop\n",
        "import pandas as pd\n",
        "\n",
        "list_data = []\n",
        "\n",
        "# CSV 파일을 읽어 들여 리스트 list_data에 저장\n",
        "pop.get_list(list_data)\n",
        "\n",
        "dict_data = {}\n",
        "\n",
        "# 딕셔너리 dict_data를 위한 키 설정\n",
        "keys = ['지역', '총인구수', '세대수', '세대당_인구', '남자_인구수', '여자_인구수', '남여_비율']\n",
        "\n",
        "# 리스트 list_data와 딕셔너리의 키 keys를 딕셔너리 dict_data에 저장\n",
        "pop.get_dict(list_data, keys, dict_data)\n",
        "\n",
        "# 딕셔너리 dict_data를 이용하여 데이터프레임 객체 frame 생성\n",
        "frame = pd.DataFrame(dict_data)\n",
        "frame2 = frame.iloc[:, [1,2,4,5]]\n",
        "print(frame2)\n",
        "\n",
        "# sum() 메소드로 열 방향으로 합계를 구함\n",
        "sum = frame2.sum(axis=0)\n",
        "print(sum)\n",
        "\n",
        "print('-' * 50)\n",
        "print('국내 전체 인구 통계')\n",
        "print('-' * 50)\n",
        "\n",
        "print('- 총 인구수 : %d명' %sum.iloc[0])\n",
        "print('- 총 세대수 : %d명' %sum.iloc[1])\n",
        "print('- 총 남자 인구수 : %d명' %sum.iloc[2])\n",
        "print('- 총 여자 인구수 : %d명' %sum.iloc[3])\n",
        "print('-' * 50)"
      ],
      "execution_count": 25,
      "outputs": [
        {
          "output_type": "stream",
          "name": "stdout",
          "text": [
            "        총인구수      세대수   남자_인구수   여자_인구수\n",
            "0    9736962  4345877  4745133  4991829\n",
            "1    3410925  1502333  1673266  1737659\n",
            "2    2432883  1033349  1202364  1230519\n",
            "3    2954955  1242107  1481133  1473822\n",
            "4    1456121   618503   720686   735435\n",
            "5    1473125   637726   735791   737334\n",
            "6    1145710   469551   588626   557084\n",
            "7     343788   136629   171403   172385\n",
            "8   13265377  5497087  6672706  6592671\n",
            "9    1539521   721003   774358   765163\n",
            "10   1598599   723931   809805   788794\n",
            "11   2120995   961890  1081153  1039842\n",
            "12   1815112   818452   902365   912747\n",
            "13   1861894   873871   934900   926994\n",
            "14   2658956  1229265  1338907  1320049\n",
            "15   3358828  1455655  1690600  1668228\n",
            "16    670876   293932   337295   333581\n",
            "총인구수      51844627\n",
            "세대수       22561161\n",
            "남자_인구수    25860491\n",
            "여자_인구수    25984136\n",
            "dtype: int64\n",
            "--------------------------------------------------\n",
            "국내 전체 인구 통계\n",
            "--------------------------------------------------\n",
            "- 총 인구수 : 51844627명\n",
            "- 총 세대수 : 22561161명\n",
            "- 총 남자 인구수 : 25860491명\n",
            "- 총 여자 인구수 : 25984136명\n",
            "--------------------------------------------------\n"
          ]
        }
      ]
    },
    {
      "cell_type": "markdown",
      "metadata": {
        "id": "7XE6CbhEsYto"
      },
      "source": [
        "###**예제 14-18. 인구 통계 시각화하기**"
      ]
    },
    {
      "cell_type": "code",
      "metadata": {
        "colab": {
          "base_uri": "https://localhost:8080/"
        },
        "id": "unMYVqeLsk1S",
        "outputId": "953f38b6-d931-4dd9-fa92-572efed502a0"
      },
      "source": [
        "# https://wooono.tistory.com/357\n",
        "\n",
        "!sudo apt-get install -y fonts-nanum\n",
        "!sudo fc-cache -fv\n",
        "!rm ~/.cache/matplotlib -rf"
      ],
      "execution_count": 27,
      "outputs": [
        {
          "output_type": "stream",
          "name": "stdout",
          "text": [
            "Reading package lists... Done\n",
            "Building dependency tree       \n",
            "Reading state information... Done\n",
            "The following NEW packages will be installed:\n",
            "  fonts-nanum\n",
            "0 upgraded, 1 newly installed, 0 to remove and 37 not upgraded.\n",
            "Need to get 9,604 kB of archives.\n",
            "After this operation, 29.5 MB of additional disk space will be used.\n",
            "Get:1 http://archive.ubuntu.com/ubuntu bionic/universe amd64 fonts-nanum all 20170925-1 [9,604 kB]\n",
            "Fetched 9,604 kB in 0s (41.8 MB/s)\n",
            "debconf: unable to initialize frontend: Dialog\n",
            "debconf: (No usable dialog-like program is installed, so the dialog based frontend cannot be used. at /usr/share/perl5/Debconf/FrontEnd/Dialog.pm line 76, <> line 1.)\n",
            "debconf: falling back to frontend: Readline\n",
            "debconf: unable to initialize frontend: Readline\n",
            "debconf: (This frontend requires a controlling tty.)\n",
            "debconf: falling back to frontend: Teletype\n",
            "dpkg-preconfigure: unable to re-open stdin: \n",
            "Selecting previously unselected package fonts-nanum.\n",
            "(Reading database ... 155013 files and directories currently installed.)\n",
            "Preparing to unpack .../fonts-nanum_20170925-1_all.deb ...\n",
            "Unpacking fonts-nanum (20170925-1) ...\n",
            "Setting up fonts-nanum (20170925-1) ...\n",
            "Processing triggers for fontconfig (2.12.6-0ubuntu2) ...\n",
            "/usr/share/fonts: caching, new cache contents: 0 fonts, 1 dirs\n",
            "/usr/share/fonts/truetype: caching, new cache contents: 0 fonts, 3 dirs\n",
            "/usr/share/fonts/truetype/humor-sans: caching, new cache contents: 1 fonts, 0 dirs\n",
            "/usr/share/fonts/truetype/liberation: caching, new cache contents: 16 fonts, 0 dirs\n",
            "/usr/share/fonts/truetype/nanum: caching, new cache contents: 10 fonts, 0 dirs\n",
            "/usr/local/share/fonts: caching, new cache contents: 0 fonts, 0 dirs\n",
            "/root/.local/share/fonts: skipping, no such directory\n",
            "/root/.fonts: skipping, no such directory\n",
            "/var/cache/fontconfig: cleaning cache directory\n",
            "/root/.cache/fontconfig: not cleaning non-existent cache directory\n",
            "/root/.fontconfig: not cleaning non-existent cache directory\n",
            "fc-cache: succeeded\n"
          ]
        }
      ]
    },
    {
      "cell_type": "code",
      "metadata": {
        "id": "RiPLvkK6smlf"
      },
      "source": [
        "# 상단 메뉴 : 런타임 - 런타임 다시 시작"
      ],
      "execution_count": null,
      "outputs": []
    },
    {
      "cell_type": "code",
      "metadata": {
        "colab": {
          "base_uri": "https://localhost:8080/"
        },
        "id": "_vrOJbrIt_t0",
        "outputId": "94fb7991-0694-45e7-ccab-3af9c84c8879"
      },
      "source": [
        "#드라이브에 접근할 수 있도록 아래 코드 입력\n",
        "from google.colab import drive\n",
        "drive.mount('/content/drive')"
      ],
      "execution_count": 3,
      "outputs": [
        {
          "output_type": "stream",
          "name": "stdout",
          "text": [
            "Drive already mounted at /content/drive; to attempt to forcibly remount, call drive.mount(\"/content/drive\", force_remount=True).\n"
          ]
        }
      ]
    },
    {
      "cell_type": "code",
      "metadata": {
        "colab": {
          "base_uri": "https://localhost:8080/"
        },
        "id": "EV9VMVacuEgv",
        "outputId": "9afb5496-e4fe-499f-b9b0-db2aad4e6b4c"
      },
      "source": [
        "cd drive/MyDrive/0_LG"
      ],
      "execution_count": 4,
      "outputs": [
        {
          "output_type": "stream",
          "name": "stdout",
          "text": [
            "/content/drive/MyDrive/0_LG\n"
          ]
        }
      ]
    },
    {
      "cell_type": "code",
      "metadata": {
        "colab": {
          "base_uri": "https://localhost:8080/",
          "height": 275
        },
        "id": "ny8uZDAOuPIT",
        "outputId": "25ff7909-383b-4d0a-fbba-427276f05a4b"
      },
      "source": [
        "import population as pop\n",
        "import pandas as pd\n",
        "from matplotlib import rc\n",
        "import matplotlib.pyplot as plt\n",
        "plt.rc('font', family='NanumBarunGothic')\n",
        "\n",
        "list_data = []\n",
        "\n",
        "# CSV 파일을 읽어 들여 리스트 list_data에 저장\n",
        "pop.get_list(list_data)\n",
        "\n",
        "# 딕셔너리 dict_data를 위한 키 설정\n",
        "keys = ['지역', '총인구수', '세대수', '세대당_인구', '남자_인구수', '여자_인구수', '남여_비율']\n",
        "\n",
        "dict_data = {}\n",
        "\n",
        "# 리스트 list_data와 딕셔너리의 키 keys를 딕셔너리 dict_data에 저장\n",
        "pop.get_dict(list_data, keys, dict_data)\n",
        "\n",
        "frame = pd.DataFrame(dict_data)\n",
        "index = ['서울','부산','대구','인천','광주','대전']\n",
        "\n",
        "x1 = frame.iloc[:6, 1]\n",
        "x1 = x1.values.tolist()\n",
        "\n",
        "x2 = frame.iloc[:6, 2]\n",
        "x2 = x2.values.tolist()\n",
        "\n",
        "df = pd.DataFrame({'총인구수':x1, '총세대수':x2}, index=index)\n",
        "ax = df.plot.bar(rot=0)"
      ],
      "execution_count": 10,
      "outputs": [
        {
          "output_type": "display_data",
          "data": {
            "image/png": "[encoded data removed]",
            "text/plain": [
              "<Figure size 432x288 with 1 Axes>"
            ]
          },
          "metadata": {
            "needs_background": "light"
          }
        }
      ]
    }
  ]
}