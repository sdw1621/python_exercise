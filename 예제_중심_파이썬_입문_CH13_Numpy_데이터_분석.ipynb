{
  "nbformat": 4,
  "nbformat_minor": 0,
  "metadata": {
    "colab": {
      "name": "예제 중심 파이썬 입문_CH13 Numpy 데이터 분석.ipynb",
      "provenance": [],
      "collapsed_sections": [],
      "authorship_tag": "ABX9TyMJFALyVKJQX3hxkXXl752Y",
      "include_colab_link": true
    },
    "kernelspec": {
      "name": "python3",
      "display_name": "Python 3"
    },
    "language_info": {
      "name": "python"
    }
  },
  "cells": [
    {
      "cell_type": "markdown",
      "metadata": {
        "id": "view-in-github",
        "colab_type": "text"
      },
      "source": [
        "<a href=\"https://colab.research.google.com/github/sdw1621/python_exercise/blob/main/%EC%98%88%EC%A0%9C_%EC%A4%91%EC%8B%AC_%ED%8C%8C%EC%9D%B4%EC%8D%AC_%EC%9E%85%EB%AC%B8_CH13_Numpy_%EB%8D%B0%EC%9D%B4%ED%84%B0_%EB%B6%84%EC%84%9D.ipynb\" target=\"_parent\"><img src=\"https://colab.research.google.com/assets/colab-badge.svg\" alt=\"Open In Colab\"/></a>"
      ]
    },
    {
      "cell_type": "markdown",
      "metadata": {
        "id": "JwlrQoR6Rmld"
      },
      "source": [
        "###**예제 13-1. ndarray 객체 생성하기**"
      ]
    },
    {
      "cell_type": "code",
      "metadata": {
        "colab": {
          "base_uri": "https://localhost:8080/"
        },
        "id": "U_3ZXgvyREdU",
        "outputId": "189179ec-0493-4164-b0ad-1695c31b0e7c"
      },
      "source": [
        "import numpy as np\n",
        "\n",
        "data = np.array([1,2,3,4])\n",
        "print(data)\n",
        "print(type(data))\n",
        "print(data.dtype)"
      ],
      "execution_count": 1,
      "outputs": [
        {
          "output_type": "stream",
          "name": "stdout",
          "text": [
            "[1 2 3 4]\n",
            "<class 'numpy.ndarray'>\n",
            "int64\n"
          ]
        }
      ]
    },
    {
      "cell_type": "markdown",
      "metadata": {
        "id": "fNu_iDTqSQdr"
      },
      "source": [
        "###**예제 13-2. 2차원 배열 객체 생성하기**"
      ]
    },
    {
      "cell_type": "code",
      "metadata": {
        "colab": {
          "base_uri": "https://localhost:8080/"
        },
        "id": "DJPUo78_R1Hj",
        "outputId": "9ef3fa89-730a-4f70-82e6-bee5af7d53ff"
      },
      "source": [
        "import numpy as np\n",
        "\n",
        "data = np.random.randn(2,3)\n",
        "print(data)\n",
        "print(data.shape)\n",
        "print(data.dtype)"
      ],
      "execution_count": 2,
      "outputs": [
        {
          "output_type": "stream",
          "name": "stdout",
          "text": [
            "[[-0.63936555  0.77031008 -0.33449687]\n",
            " [-1.36955876 -2.41843469 -0.14488601]]\n",
            "(2, 3)\n",
            "float64\n"
          ]
        }
      ]
    },
    {
      "cell_type": "markdown",
      "metadata": {
        "id": "AUkTjAN6Sok6"
      },
      "source": [
        "###**예제 13-3. ndarray 객체 0으로 초기화하기**"
      ]
    },
    {
      "cell_type": "code",
      "metadata": {
        "colab": {
          "base_uri": "https://localhost:8080/"
        },
        "id": "l3LJ9VmRScnH",
        "outputId": "408ce235-0928-4233-aa61-a0b333100165"
      },
      "source": [
        "import numpy as np\n",
        "\n",
        "data1 = np.zeros(10)\n",
        "print(data1)\n",
        "print(data1.dtype)\n",
        "\n",
        "data2 = np.zeros((2,3))\n",
        "print(data2)\n",
        "\n",
        "data3 = np.zeros((2,3), dtype=np.int32)\n",
        "print(data3)"
      ],
      "execution_count": 6,
      "outputs": [
        {
          "output_type": "stream",
          "name": "stdout",
          "text": [
            "[0. 0. 0. 0. 0. 0. 0. 0. 0. 0.]\n",
            "float64\n",
            "[[0. 0. 0.]\n",
            " [0. 0. 0.]]\n",
            "[[0 0 0]\n",
            " [0 0 0]]\n"
          ]
        }
      ]
    },
    {
      "cell_type": "markdown",
      "metadata": {
        "id": "e1GkYpAFTN8U"
      },
      "source": [
        "###**예제 13-4. ndarray 객체 1으로 초기화하기**"
      ]
    },
    {
      "cell_type": "code",
      "metadata": {
        "colab": {
          "base_uri": "https://localhost:8080/"
        },
        "id": "NwpaTRAISzgT",
        "outputId": "7640e30c-34bd-40d4-b8b5-9bc1a1a2698d"
      },
      "source": [
        "import numpy as np\n",
        "\n",
        "data1 = np.ones(8)\n",
        "print(data1)\n",
        "\n",
        "data2 = np.ones((3,4), dtype=np.int32)\n",
        "print(data2)"
      ],
      "execution_count": 8,
      "outputs": [
        {
          "output_type": "stream",
          "name": "stdout",
          "text": [
            "[1. 1. 1. 1. 1. 1. 1. 1.]\n",
            "[[1 1 1 1]\n",
            " [1 1 1 1]\n",
            " [1 1 1 1]]\n"
          ]
        }
      ]
    },
    {
      "cell_type": "markdown",
      "metadata": {
        "id": "6Tiz6eEwTgIS"
      },
      "source": [
        "###**예제 13-5. Numpy의 arange() 메소드**"
      ]
    },
    {
      "cell_type": "code",
      "metadata": {
        "colab": {
          "base_uri": "https://localhost:8080/"
        },
        "id": "CiDn4jq-TVNf",
        "outputId": "ae49f511-340e-4d46-b0c1-6854e6b69d45"
      },
      "source": [
        "import numpy as np\n",
        "\n",
        "data = np.arange(10,121,10)\n",
        "print(data)\n",
        "print(data[2])\n",
        "print(data[5:8])"
      ],
      "execution_count": 9,
      "outputs": [
        {
          "output_type": "stream",
          "name": "stdout",
          "text": [
            "[ 10  20  30  40  50  60  70  80  90 100 110 120]\n",
            "30\n",
            "[60 70 80]\n"
          ]
        }
      ]
    },
    {
      "cell_type": "code",
      "metadata": {
        "colab": {
          "base_uri": "https://localhost:8080/"
        },
        "id": "XnnQ6EKiTtFk",
        "outputId": "bd99f240-1d49-4f39-b840-351be28d5526"
      },
      "source": [
        "data[7:10] = 800\n",
        "print(data)"
      ],
      "execution_count": 10,
      "outputs": [
        {
          "output_type": "stream",
          "name": "stdout",
          "text": [
            "[ 10  20  30  40  50  60  70 800 800 800 110 120]\n"
          ]
        }
      ]
    },
    {
      "cell_type": "code",
      "metadata": {
        "colab": {
          "base_uri": "https://localhost:8080/"
        },
        "id": "njctU_wKT3TJ",
        "outputId": "fa73b111-9e9b-4495-fdb9-5f96a4a08355"
      },
      "source": [
        "data2 = data.reshape(2,6)\n",
        "print(data2)"
      ],
      "execution_count": 12,
      "outputs": [
        {
          "output_type": "stream",
          "name": "stdout",
          "text": [
            "[[ 10  20  30  40  50  60]\n",
            " [ 70 800 800 800 110 120]]\n"
          ]
        }
      ]
    },
    {
      "cell_type": "markdown",
      "metadata": {
        "id": "UryKIucrUX_L"
      },
      "source": [
        "###**예제 13-6. 2차원 배열의 요소 추출**"
      ]
    },
    {
      "cell_type": "code",
      "metadata": {
        "colab": {
          "base_uri": "https://localhost:8080/"
        },
        "id": "ZO3Wk_3ZT78Z",
        "outputId": "0afdcc51-7d9a-4169-aa86-178ecea445f6"
      },
      "source": [
        "import numpy as np\n",
        "\n",
        "data = np.array([[1,2,3,4,5],\n",
        "                [6,7,8,9,10],\n",
        "                [11,12,13,14,15]])\n",
        "\n",
        "print(data, \"\\n\")\n",
        "\n",
        "print(data[2][3], \"\\n\")\n",
        "print(data[0][1:], \"\\n\")\n",
        "print(data[0], \"\\n\")\n",
        "print(data[1,2])\n",
        "\n",
        "data[1] = 100\n",
        "print(data)\n",
        "\n",
        "data[:] = 200\n",
        "print(data)"
      ],
      "execution_count": 24,
      "outputs": [
        {
          "output_type": "stream",
          "name": "stdout",
          "text": [
            "[[ 1  2  3  4  5]\n",
            " [ 6  7  8  9 10]\n",
            " [11 12 13 14 15]] \n",
            "\n",
            "14 \n",
            "\n",
            "[2 3 4 5] \n",
            "\n",
            "[1 2 3 4 5] \n",
            "\n",
            "8\n",
            "[[  1   2   3   4   5]\n",
            " [100 100 100 100 100]\n",
            " [ 11  12  13  14  15]]\n",
            "[[200 200 200 200 200]\n",
            " [200 200 200 200 200]\n",
            " [200 200 200 200 200]]\n"
          ]
        }
      ]
    },
    {
      "cell_type": "markdown",
      "metadata": {
        "id": "5YK1AtPTVSqp"
      },
      "source": [
        "###**예제 13-7. numpy 배열의 산술 연산**"
      ]
    },
    {
      "cell_type": "code",
      "metadata": {
        "colab": {
          "base_uri": "https://localhost:8080/"
        },
        "id": "lxxTZPALUkyL",
        "outputId": "02b64354-f8f2-4e4d-d6a9-187942a410d4"
      },
      "source": [
        "import numpy as np\n",
        "\n",
        "a = np.array([\n",
        "              [10, 7, -8, 2],\n",
        "              [-2,2,8,3],\n",
        "              [6,-8,-5,3]\n",
        "              ])\n",
        "\n",
        "b = a * 2\n",
        "print(b)\n",
        "\n",
        "c = a*a\n",
        "print(c)\n",
        "\n",
        "print(a > b)"
      ],
      "execution_count": 29,
      "outputs": [
        {
          "output_type": "stream",
          "name": "stdout",
          "text": [
            "[[ 20  14 -16   4]\n",
            " [ -4   4  16   6]\n",
            " [ 12 -16 -10   6]]\n",
            "[[100  49  64   4]\n",
            " [  4   4  64   9]\n",
            " [ 36  64  25   9]]\n",
            "[[False False  True False]\n",
            " [ True False False False]\n",
            " [False  True  True False]]\n"
          ]
        }
      ]
    },
    {
      "cell_type": "markdown",
      "metadata": {
        "id": "r6if_WiFWEcI"
      },
      "source": [
        "###**예제 13-8. 배열의 합계, 평균, 최댓값, 최솟값 구하기**"
      ]
    },
    {
      "cell_type": "code",
      "metadata": {
        "colab": {
          "base_uri": "https://localhost:8080/"
        },
        "id": "egeTXNO2Vn1h",
        "outputId": "112db571-93f3-42e5-ccd0-eeac543563e9"
      },
      "source": [
        "import numpy as np\n",
        "\n",
        "data = np.array([\n",
        "                 [80, 78, 90, 93],\n",
        "                 [65, 87, 88, 75],\n",
        "                 [98,100, 68, 80]\n",
        "                 ])\n",
        "\n",
        "print(data.sum())\n",
        "print(data.mean())\n",
        "print(data.max())\n",
        "print(data.min())\n",
        "print()\n",
        "\n",
        "print(data.max(axis=0))\n",
        "print(data.max(axis=1))\n",
        "print()\n",
        "\n",
        "index1 = np.argmax(data, axis=0)\n",
        "index2 = np.argmax(data, axis=1)\n",
        "print(index1, index2)"
      ],
      "execution_count": 31,
      "outputs": [
        {
          "output_type": "stream",
          "name": "stdout",
          "text": [
            "1002\n",
            "83.5\n",
            "100\n",
            "65\n",
            "\n",
            "[ 98 100  90  93]\n",
            "[ 93  88 100]\n",
            "\n",
            "[2 2 0 0] [3 2 1]\n"
          ]
        }
      ]
    },
    {
      "cell_type": "markdown",
      "metadata": {
        "id": "LuI9fgGmY0T_"
      },
      "source": [
        "###**예제 13-9. 배열에 조건식 사용**"
      ]
    },
    {
      "cell_type": "code",
      "metadata": {
        "colab": {
          "base_uri": "https://localhost:8080/"
        },
        "id": "MVru6cArWwBd",
        "outputId": "d7d9aefe-9a3d-44f3-ade0-066fe8ad776f"
      },
      "source": [
        " import numpy as np\n",
        "\n",
        " data = np.random.randn(3,4)\n",
        " print(data)\n",
        "\n",
        " print(data > 0)\n",
        "\n",
        " total = (data < 0).sum()\n",
        " print(total)\n",
        "\n",
        " data2 = np.where(data > 0, 1, -1)\n",
        " print(data2)\n",
        "\n",
        " data3 = np.where(data < 0, 5, data)\n",
        " print(data3)"
      ],
      "execution_count": 34,
      "outputs": [
        {
          "output_type": "stream",
          "name": "stdout",
          "text": [
            "[[ 2.21260386  0.20525479 -0.14532124  0.96909544]\n",
            " [ 0.11084623  0.58616335  0.59544211  1.59058292]\n",
            " [ 1.20168454 -0.37364397 -0.63651558  0.94199104]]\n",
            "[[ True  True False  True]\n",
            " [ True  True  True  True]\n",
            " [ True False False  True]]\n",
            "3\n",
            "[[ 1  1 -1  1]\n",
            " [ 1  1  1  1]\n",
            " [ 1 -1 -1  1]]\n",
            "[[2.21260386 0.20525479 5.         0.96909544]\n",
            " [0.11084623 0.58616335 0.59544211 1.59058292]\n",
            " [1.20168454 5.         5.         0.94199104]]\n"
          ]
        }
      ]
    },
    {
      "cell_type": "markdown",
      "metadata": {
        "id": "v9oEXCk1bPs6"
      },
      "source": [
        "###**예제 13-10. 배열에 요소 정렬**"
      ]
    },
    {
      "cell_type": "code",
      "metadata": {
        "colab": {
          "base_uri": "https://localhost:8080/"
        },
        "id": "g0NQXh2ZZNcD",
        "outputId": "7fd48edf-bbbc-4103-b582-9b3e63b582b0"
      },
      "source": [
        "import numpy as np\n",
        "\n",
        "data = np.array([\n",
        "                 [13, 22, 17, 2],\n",
        "                 [-2, 20, 8, 3],\n",
        "                 [-16, 10, -5, 33],\n",
        "                 ])\n",
        "\n",
        "data.sort(0)\n",
        "print(data)\n",
        "print()\n",
        "\n",
        "data.sort(1)\n",
        "print(data)"
      ],
      "execution_count": 37,
      "outputs": [
        {
          "output_type": "stream",
          "name": "stdout",
          "text": [
            "[[-16  10  -5   2]\n",
            " [ -2  20   8   3]\n",
            " [ 13  22  17  33]]\n",
            "\n",
            "[[-16  -5   2  10]\n",
            " [ -2   3   8  20]\n",
            " [ 13  17  22  33]]\n"
          ]
        }
      ]
    },
    {
      "cell_type": "markdown",
      "metadata": {
        "id": "f4mbAnAxbLQ5"
      },
      "source": [
        "###**예제 13-11. 배열에 열과 행 삽입**"
      ]
    },
    {
      "cell_type": "code",
      "metadata": {
        "colab": {
          "base_uri": "https://localhost:8080/"
        },
        "id": "e83xT91KZ9qT",
        "outputId": "cea8f74d-060a-4972-c45b-19f358a324cb"
      },
      "source": [
        "import numpy as np\n",
        "\n",
        "a = np.arange(10)\n",
        "print(a)\n",
        "\n",
        "b = np.insert(a, 3, 10)\n",
        "print(b)\n",
        "\n",
        "x = np.array([[1,1,1],[2,2,2],[3,3,3]])\n",
        "print(x)\n",
        "print()\n",
        "\n",
        "y = np.insert(x, 1, 10, axis=0)\n",
        "print(y)\n",
        "\n",
        "y = np.insert(x, 1, 10, axis=1)\n",
        "print(y)"
      ],
      "execution_count": 42,
      "outputs": [
        {
          "output_type": "stream",
          "name": "stdout",
          "text": [
            "[0 1 2 3 4 5 6 7 8 9]\n",
            "[ 0  1  2 10  3  4  5  6  7  8  9]\n",
            "[[1 1 1]\n",
            " [2 2 2]\n",
            " [3 3 3]]\n",
            "\n",
            "[[ 1  1  1]\n",
            " [10 10 10]\n",
            " [ 2  2  2]\n",
            " [ 3  3  3]]\n",
            "[[ 1 10  1  1]\n",
            " [ 2 10  2  2]\n",
            " [ 3 10  3  3]]\n"
          ]
        }
      ]
    },
    {
      "cell_type": "code",
      "metadata": {
        "id": "AJzLLisabhKF"
      },
      "source": [
        ""
      ],
      "execution_count": null,
      "outputs": []
    }
  ]
}